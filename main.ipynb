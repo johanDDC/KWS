{
 "cells": [
  {
   "cell_type": "markdown",
   "metadata": {
    "id": "_lhrn5O-qUYZ"
   },
   "source": [
    "# Import and misc"
   ]
  },
  {
   "cell_type": "code",
   "execution_count": 1,
   "metadata": {
    "colab": {
     "base_uri": "https://localhost:8080/"
    },
    "id": "meO-Mp9jiAFC",
    "outputId": "b81351fe-e4ec-4de2-b080-fc0725f3ba71"
   },
   "outputs": [],
   "source": [
    "# Instal latest torch and torchaudio"
   ]
  },
  {
   "cell_type": "code",
   "execution_count": 2,
   "metadata": {
    "id": "bbUpoArCqUYa"
   },
   "outputs": [],
   "source": [
    "from typing import Tuple, Union, List, Callable, Optional\n",
    "from tqdm import tqdm\n",
    "from itertools import islice\n",
    "import pathlib\n",
    "import dataclasses\n",
    "\n",
    "import numpy as np\n",
    "import pandas as pd\n",
    "\n",
    "import torch\n",
    "import torch.nn.functional as F\n",
    "from torch import nn\n",
    "from torch import distributions\n",
    "from torch.utils.data import DataLoader, Dataset, WeightedRandomSampler\n",
    "from torch.nn.utils.rnn import pad_sequence\n",
    "\n",
    "import torchaudio\n",
    "from IPython import display as display_\n",
    "\n",
    "from utils import set_random_seed\n",
    "\n",
    "set_random_seed(3407)\n",
    "MODEL_FOLDER = \"./model/\""
   ]
  },
  {
   "cell_type": "markdown",
   "metadata": {
    "id": "812GwLfqqUYf"
   },
   "source": [
    "# Task"
   ]
  },
  {
   "cell_type": "markdown",
   "metadata": {
    "id": "i1DuQIyRqUYf"
   },
   "source": [
    "In this notebook we will implement a model for finding a keyword in a stream.\n",
    "\n",
    "We will implement the version with CRNN because it is easy and improves the model. \n",
    "(from https://www.dropbox.com/s/22ah2ba7dug6pzw/KWS_Attention.pdf)"
   ]
  },
  {
   "cell_type": "code",
   "execution_count": 3,
   "metadata": {
    "id": "8PdhApeEh9pH"
   },
   "outputs": [],
   "source": [
    "@dataclasses.dataclass\n",
    "class TaskConfig:\n",
    "    keyword: str = 'sheila'  # We will use 1 key word -- 'sheila'\n",
    "    batch_size: int = 128\n",
    "    learning_rate: float = 3e-4\n",
    "    weight_decay: float = 1e-5\n",
    "    num_epochs: int = 20\n",
    "    n_mels: int = 40\n",
    "    cnn_out_channels: int = 8\n",
    "    kernel_size: Tuple[int, int] = (5, 20)\n",
    "    stride: Tuple[int, int] = (2, 8)\n",
    "    hidden_size: int = 64\n",
    "    gru_num_layers: int = 2\n",
    "    bidirectional: bool = False\n",
    "    num_classes: int = 2\n",
    "    sample_rate: int = 16000\n",
    "    device: torch.device = torch.device(\n",
    "        'cuda:0' if torch.cuda.is_available() else 'cpu')"
   ]
  },
  {
   "cell_type": "markdown",
   "metadata": {
    "id": "KA1gPmE1h9pI"
   },
   "source": [
    "# Data"
   ]
  },
  {
   "cell_type": "code",
   "execution_count": 4,
   "metadata": {
    "colab": {
     "base_uri": "https://localhost:8080/"
    },
    "id": "Y2N8zcx9MF1X",
    "outputId": "7f8235e9-e2dd-4e33-cabe-07b92c0f2c36"
   },
   "outputs": [],
   "source": [
    "# !wget http://download.tensorflow.org/data/speech_commands_v0.01.tar.gz -O speech_commands_v0.01.tar.gz\n",
    "# !mkdir speech_commands && tar -C speech_commands -xvzf speech_commands_v0.01.tar.gz 1> log"
   ]
  },
  {
   "cell_type": "code",
   "execution_count": 5,
   "metadata": {
    "id": "12wBTK0mNUsG"
   },
   "outputs": [],
   "source": [
    "class SpeechCommandDataset(Dataset):\n",
    "\n",
    "    def __init__(\n",
    "        self,\n",
    "        transform: Optional[Callable] = None,\n",
    "        path2dir: str = None,\n",
    "        keywords: Union[str, List[str]] = None,\n",
    "        csv: Optional[pd.DataFrame] = None\n",
    "    ):        \n",
    "        self.transform = transform\n",
    "\n",
    "        if csv is None:\n",
    "            path2dir = pathlib.Path(path2dir)\n",
    "            keywords = keywords if isinstance(keywords, list) else [keywords]\n",
    "            \n",
    "            all_keywords = [\n",
    "                p.stem for p in path2dir.glob('*')\n",
    "                if p.is_dir() and not p.stem.startswith('_')\n",
    "            ]\n",
    "\n",
    "            triplets = []\n",
    "            for keyword in all_keywords:\n",
    "                paths = (path2dir / keyword).rglob('*.wav')\n",
    "                if keyword in keywords:\n",
    "                    for path2wav in paths:\n",
    "                        triplets.append((path2wav.as_posix(), keyword, 1))\n",
    "                else:\n",
    "                    for path2wav in paths:\n",
    "                        triplets.append((path2wav.as_posix(), keyword, 0))\n",
    "            \n",
    "            self.csv = pd.DataFrame(\n",
    "                triplets,\n",
    "                columns=['path', 'keyword', 'label']\n",
    "            )\n",
    "\n",
    "        else:\n",
    "            self.csv = csv\n",
    "    \n",
    "    def __getitem__(self, index: int):\n",
    "        instance = self.csv.iloc[index]\n",
    "\n",
    "        path2wav = instance['path']\n",
    "        wav, sr = torchaudio.load(path2wav)\n",
    "        wav = wav.sum(dim=0)\n",
    "        \n",
    "        if self.transform:\n",
    "            wav = self.transform(wav)\n",
    "\n",
    "        return {\n",
    "            'wav': wav,\n",
    "            'keywors': instance['keyword'],\n",
    "            'label': instance['label']\n",
    "        }\n",
    "\n",
    "    def __len__(self):\n",
    "        return len(self.csv)"
   ]
  },
  {
   "cell_type": "code",
   "execution_count": 6,
   "metadata": {
    "id": "-1rVkT81Pk90"
   },
   "outputs": [],
   "source": [
    "dataset = SpeechCommandDataset(\n",
    "    path2dir='speech_commands', keywords=TaskConfig.keyword\n",
    ")"
   ]
  },
  {
   "cell_type": "code",
   "execution_count": 7,
   "metadata": {
    "colab": {
     "base_uri": "https://localhost:8080/",
     "height": 204
    },
    "id": "DFwhAXdfQLIA",
    "outputId": "ce911e31-70e4-43d9-d5f0-5eca0e4776fc"
   },
   "outputs": [
    {
     "data": {
      "text/plain": "                                               path keyword  label\n11157     speech_commands/wow/db43cd03_nohash_0.wav     wow      0\n2437      speech_commands/two/4e8c5516_nohash_1.wav     two      0\n9857     speech_commands/bird/de650823_nohash_0.wav    bird      0\n2850   speech_commands/sheila/21cbe292_nohash_1.wav  sheila      1\n27190     speech_commands/yes/106a6183_nohash_0.wav     yes      0",
      "text/html": "<div>\n<style scoped>\n    .dataframe tbody tr th:only-of-type {\n        vertical-align: middle;\n    }\n\n    .dataframe tbody tr th {\n        vertical-align: top;\n    }\n\n    .dataframe thead th {\n        text-align: right;\n    }\n</style>\n<table border=\"1\" class=\"dataframe\">\n  <thead>\n    <tr style=\"text-align: right;\">\n      <th></th>\n      <th>path</th>\n      <th>keyword</th>\n      <th>label</th>\n    </tr>\n  </thead>\n  <tbody>\n    <tr>\n      <th>11157</th>\n      <td>speech_commands/wow/db43cd03_nohash_0.wav</td>\n      <td>wow</td>\n      <td>0</td>\n    </tr>\n    <tr>\n      <th>2437</th>\n      <td>speech_commands/two/4e8c5516_nohash_1.wav</td>\n      <td>two</td>\n      <td>0</td>\n    </tr>\n    <tr>\n      <th>9857</th>\n      <td>speech_commands/bird/de650823_nohash_0.wav</td>\n      <td>bird</td>\n      <td>0</td>\n    </tr>\n    <tr>\n      <th>2850</th>\n      <td>speech_commands/sheila/21cbe292_nohash_1.wav</td>\n      <td>sheila</td>\n      <td>1</td>\n    </tr>\n    <tr>\n      <th>27190</th>\n      <td>speech_commands/yes/106a6183_nohash_0.wav</td>\n      <td>yes</td>\n      <td>0</td>\n    </tr>\n  </tbody>\n</table>\n</div>"
     },
     "execution_count": 7,
     "metadata": {},
     "output_type": "execute_result"
    }
   ],
   "source": [
    "dataset.csv.sample(5)"
   ]
  },
  {
   "cell_type": "markdown",
   "metadata": {
    "id": "LUxfDJw1qUYi"
   },
   "source": [
    "### Augmentations"
   ]
  },
  {
   "cell_type": "code",
   "execution_count": 8,
   "metadata": {
    "id": "dkmkxPWQqUYe"
   },
   "outputs": [],
   "source": [
    "class AugsCreation:\n",
    "\n",
    "    def __init__(self):\n",
    "        self.background_noises = [\n",
    "            'speech_commands/_background_noise_/white_noise.wav',\n",
    "            'speech_commands/_background_noise_/dude_miaowing.wav',\n",
    "            'speech_commands/_background_noise_/doing_the_dishes.wav',\n",
    "            'speech_commands/_background_noise_/exercise_bike.wav',\n",
    "            'speech_commands/_background_noise_/pink_noise.wav',\n",
    "            'speech_commands/_background_noise_/running_tap.wav'\n",
    "        ]\n",
    "\n",
    "        self.noises = [\n",
    "            torchaudio.load(p)[0].squeeze()\n",
    "            for p in self.background_noises\n",
    "        ]\n",
    "\n",
    "    def add_rand_noise(self, audio):\n",
    "\n",
    "        # randomly choose noise\n",
    "        noise_num = torch.randint(low=0, high=len(\n",
    "            self.background_noises), size=(1,)).item()\n",
    "        noise = self.noises[noise_num]\n",
    "\n",
    "        noise_level = torch.Tensor([1])  # [0, 40]\n",
    "\n",
    "        noise_energy = torch.norm(noise)\n",
    "        audio_energy = torch.norm(audio)\n",
    "        alpha = (audio_energy / noise_energy) * \\\n",
    "            torch.pow(10, -noise_level / 20)\n",
    "\n",
    "        start = torch.randint(\n",
    "            low=0,\n",
    "            high=max(int(noise.size(0) - audio.size(0) - 1), 1),\n",
    "            size=(1,)\n",
    "        ).item()\n",
    "        noise_sample = noise[start: start + audio.size(0)]\n",
    "\n",
    "        audio_new = audio + alpha * noise_sample\n",
    "        audio_new.clamp_(-1, 1)\n",
    "        return audio_new\n",
    "\n",
    "    def __call__(self, wav):\n",
    "        aug_num = torch.randint(low=0, high=4, size=(1,)).item()   # choose 1 random aug from augs\n",
    "        augs = [\n",
    "            lambda x: x,\n",
    "            lambda x: (x + distributions.Normal(0, 0.01).sample(x.size())).clamp_(-1, 1),\n",
    "            lambda x: torchaudio.transforms.Vol(.25)(x),\n",
    "            lambda x: self.add_rand_noise(x)\n",
    "        ]\n",
    "\n",
    "        return augs[aug_num](wav)"
   ]
  },
  {
   "cell_type": "code",
   "execution_count": 9,
   "metadata": {
    "id": "ClWThxyYh9pM"
   },
   "outputs": [],
   "source": [
    "indexes = torch.randperm(len(dataset))\n",
    "train_indexes = indexes[:int(len(dataset) * 0.8)]\n",
    "val_indexes = indexes[int(len(dataset) * 0.8):]\n",
    "\n",
    "train_df = dataset.csv.iloc[train_indexes].reset_index(drop=True)\n",
    "val_df = dataset.csv.iloc[val_indexes].reset_index(drop=True)"
   ]
  },
  {
   "cell_type": "code",
   "execution_count": 10,
   "metadata": {
    "id": "PDPLht5fqUYe"
   },
   "outputs": [],
   "source": [
    "# Sample is a dict of utt, word and label\n",
    "train_set = SpeechCommandDataset(csv=train_df, transform=AugsCreation())\n",
    "val_set = SpeechCommandDataset(csv=val_df)\n"
   ]
  },
  {
   "cell_type": "markdown",
   "metadata": {
    "id": "2vbPDqd6qUYj"
   },
   "source": [
    "### Sampler for oversampling:"
   ]
  },
  {
   "cell_type": "code",
   "execution_count": 11,
   "metadata": {
    "id": "rfnjRKo2qUYj"
   },
   "outputs": [],
   "source": [
    "# We should provide to WeightedRandomSampler _weight for every sample_; by default it is 1/len(target)\n",
    "\n",
    "def get_sampler(target):\n",
    "    class_sample_count = np.array(\n",
    "        [len(np.where(target == t)[0]) for t in np.unique(target)])   # for every class count it's number of occ.\n",
    "    weight = 1. / class_sample_count\n",
    "    samples_weight = np.array([weight[t] for t in target])\n",
    "    samples_weight = torch.from_numpy(samples_weight)\n",
    "    samples_weigth = samples_weight.float()\n",
    "    sampler = WeightedRandomSampler(samples_weight, len(samples_weight))\n",
    "    return sampler"
   ]
  },
  {
   "cell_type": "code",
   "execution_count": 12,
   "metadata": {
    "id": "UM8gLmHeqUYj"
   },
   "outputs": [],
   "source": [
    "train_sampler = get_sampler(train_set.csv['label'].values)"
   ]
  },
  {
   "cell_type": "code",
   "execution_count": 13,
   "metadata": {
    "id": "lyBqbxp0h9pO"
   },
   "outputs": [],
   "source": [
    "class Collator:\n",
    "    \n",
    "    def __call__(self, data):\n",
    "        wavs = []\n",
    "        labels = []    \n",
    "\n",
    "        for el in data:\n",
    "            wavs.append(el['wav'])\n",
    "            labels.append(el['label'])\n",
    "\n",
    "        # torch.nn.utils.rnn.pad_sequence takes list(Tensors) and returns padded (with 0.0) Tensor\n",
    "        wavs = pad_sequence(wavs, batch_first=True)    \n",
    "        labels = torch.Tensor(labels).long()\n",
    "        return wavs, labels"
   ]
  },
  {
   "cell_type": "markdown",
   "metadata": {
    "id": "e8G9xPRVqUYk"
   },
   "source": [
    "###  Dataloaders"
   ]
  },
  {
   "cell_type": "code",
   "execution_count": 14,
   "metadata": {
    "id": "6wGBMcQiqUYk"
   },
   "outputs": [],
   "source": [
    "# Here we are obliged to use shuffle=False because of our sampler with randomness inside.\n",
    "\n",
    "train_loader = DataLoader(train_set, batch_size=TaskConfig.batch_size,\n",
    "                          shuffle=False, collate_fn=Collator(),\n",
    "                          sampler=train_sampler,\n",
    "                          num_workers=6, pin_memory=True)\n",
    "\n",
    "val_loader = DataLoader(val_set, batch_size=TaskConfig.batch_size,\n",
    "                        shuffle=False, collate_fn=Collator(),\n",
    "                        num_workers=6, pin_memory=True)"
   ]
  },
  {
   "cell_type": "markdown",
   "metadata": {
    "id": "kTlsn6cpqUYk"
   },
   "source": [
    "### Creating MelSpecs on GPU for speeeed: "
   ]
  },
  {
   "cell_type": "code",
   "execution_count": 15,
   "metadata": {
    "id": "pRXMt6it56fW"
   },
   "outputs": [],
   "source": [
    "class LogMelspec:\n",
    "\n",
    "    def __init__(self, is_train, config):\n",
    "        # with augmentations\n",
    "        if is_train:\n",
    "            self.melspec = nn.Sequential(\n",
    "                torchaudio.transforms.MelSpectrogram(\n",
    "                    sample_rate=config.sample_rate,\n",
    "                    n_fft=400,\n",
    "                    win_length=400,\n",
    "                    hop_length=160,\n",
    "                    n_mels=config.n_mels\n",
    "                ),\n",
    "                torchaudio.transforms.FrequencyMasking(freq_mask_param=15),\n",
    "                torchaudio.transforms.TimeMasking(time_mask_param=35),\n",
    "            ).to(config.device)\n",
    "\n",
    "        # no augmentations\n",
    "        else:\n",
    "            self.melspec = torchaudio.transforms.MelSpectrogram(\n",
    "                sample_rate=config.sample_rate,\n",
    "                n_fft=400,\n",
    "                win_length=400,\n",
    "                hop_length=160,\n",
    "                n_mels=config.n_mels\n",
    "            ).to(config.device)\n",
    "\n",
    "    def __call__(self, batch):\n",
    "        # already on device\n",
    "        return torch.log(self.melspec(batch).clamp_(min=1e-9, max=1e9))"
   ]
  },
  {
   "cell_type": "code",
   "execution_count": 16,
   "metadata": {
    "id": "Pqkz4_gn8BiF"
   },
   "outputs": [],
   "source": [
    "melspec_train = LogMelspec(is_train=True, config=TaskConfig)\n",
    "melspec_val = LogMelspec(is_train=False, config=TaskConfig)"
   ]
  },
  {
   "cell_type": "markdown",
   "metadata": {
    "id": "zoAxmihY8yxr"
   },
   "source": [
    "### Quality measurment functions:"
   ]
  },
  {
   "cell_type": "code",
   "execution_count": 17,
   "metadata": {
    "id": "euwD1UyuqUYk"
   },
   "outputs": [],
   "source": [
    "# FA - true: 0, model: 1\n",
    "# FR - true: 1, model: 0\n",
    "\n",
    "def count_FA_FR(preds, labels):\n",
    "    FA = torch.sum(preds[labels == 0])\n",
    "    FR = torch.sum(labels[preds == 0])\n",
    "    \n",
    "    # torch.numel - returns total number of elements in tensor\n",
    "    return FA.item() / torch.numel(preds), FR.item() / torch.numel(preds)"
   ]
  },
  {
   "cell_type": "code",
   "execution_count": 18,
   "metadata": {
    "id": "YHBUrkT1qUYk"
   },
   "outputs": [],
   "source": [
    "def get_au_fa_fr(probs, labels):\n",
    "    sorted_probs, _ = torch.sort(probs)\n",
    "    sorted_probs = torch.cat((torch.Tensor([0]), sorted_probs, torch.Tensor([1])))\n",
    "    labels = torch.cat(labels, dim=0)\n",
    "        \n",
    "    FAs, FRs = [], []\n",
    "    for prob in sorted_probs:\n",
    "        preds = (probs >= prob) * 1\n",
    "        FA, FR = count_FA_FR(preds, labels)        \n",
    "        FAs.append(FA)\n",
    "        FRs.append(FR)\n",
    "    # plt.plot(FAs, FRs)\n",
    "    # plt.show()\n",
    "\n",
    "    # ~ area under curve using trapezoidal rule\n",
    "    return -np.trapz(FRs, x=FAs)"
   ]
  },
  {
   "cell_type": "markdown",
   "metadata": {
    "id": "CcEP5cEZqUYl"
   },
   "source": [
    "# Model"
   ]
  },
  {
   "cell_type": "code",
   "execution_count": 19,
   "metadata": {
    "colab": {
     "base_uri": "https://localhost:8080/"
    },
    "id": "2cP_pFIsy5p2",
    "outputId": "1af690bf-bba6-4033-84e7-b400d37c846b"
   },
   "outputs": [
    {
     "data": {
      "text/plain": "CRNN(\n  (conv): Sequential(\n    (0): Conv2d(1, 8, kernel_size=(5, 20), stride=(2, 8))\n    (1): Flatten(start_dim=1, end_dim=2)\n  )\n  (gru): GRU(144, 64, num_layers=2, batch_first=True, dropout=0.1)\n  (attention): Attention(\n    (energy): Sequential(\n      (0): Linear(in_features=64, out_features=64, bias=True)\n      (1): Tanh()\n      (2): Linear(in_features=64, out_features=1, bias=True)\n    )\n  )\n  (classifier): Linear(in_features=64, out_features=2, bias=True)\n)"
     },
     "execution_count": 19,
     "metadata": {},
     "output_type": "execute_result"
    }
   ],
   "source": [
    "class Attention(nn.Module):\n",
    "\n",
    "    def __init__(self, hidden_size: int):\n",
    "        super().__init__()\n",
    "\n",
    "        self.energy = nn.Sequential(\n",
    "            nn.Linear(hidden_size, hidden_size),\n",
    "            nn.Tanh(),\n",
    "            nn.Linear(hidden_size, 1)\n",
    "        )\n",
    "    \n",
    "    def forward(self, input):\n",
    "        energy = self.energy(input)\n",
    "        alpha = torch.softmax(energy, dim=-2)\n",
    "        return (input * alpha).sum(dim=-2)\n",
    "\n",
    "class CRNN(nn.Module):\n",
    "\n",
    "    def __init__(self, config: TaskConfig):\n",
    "        super().__init__()\n",
    "        self.config = config\n",
    "\n",
    "        self.conv = nn.Sequential(\n",
    "            nn.Conv2d(\n",
    "                in_channels=1, out_channels=config.cnn_out_channels,\n",
    "                kernel_size=config.kernel_size, stride=config.stride\n",
    "            ),\n",
    "            nn.Flatten(start_dim=1, end_dim=2),\n",
    "        )\n",
    "\n",
    "        self.conv_out_frequency = (config.n_mels - config.kernel_size[0]) // \\\n",
    "            config.stride[0] + 1\n",
    "        \n",
    "        self.gru = nn.GRU(\n",
    "            input_size=self.conv_out_frequency * config.cnn_out_channels,\n",
    "            hidden_size=config.hidden_size,\n",
    "            num_layers=config.gru_num_layers,\n",
    "            dropout=0.1,\n",
    "            bidirectional=config.bidirectional,\n",
    "            batch_first=True\n",
    "        )\n",
    "\n",
    "        self.attention = Attention(config.hidden_size)\n",
    "        self.classifier = nn.Linear(config.hidden_size, config.num_classes)\n",
    "    \n",
    "    def forward(self, input):\n",
    "        input = input.unsqueeze(dim=1)\n",
    "        conv_output = self.conv(input).transpose(-1, -2)\n",
    "        gru_output, _ = self.gru(conv_output)\n",
    "        contex_vector = self.attention(gru_output)\n",
    "        output = self.classifier(contex_vector)\n",
    "        return output\n",
    "\n",
    "config = TaskConfig()\n",
    "model = CRNN(config)\n",
    "model"
   ]
  },
  {
   "cell_type": "code",
   "execution_count": 20,
   "metadata": {
    "id": "DmmSFvWaqUYn"
   },
   "outputs": [],
   "source": [
    "def train_epoch(model, opt, loader, log_melspec, device, scheduler=None):\n",
    "    model.train()\n",
    "    for i, (batch, labels) in tqdm(enumerate(loader), total=len(loader)):\n",
    "        batch = batch.to(device, non_blocking=True)\n",
    "        labels = labels.to(device, non_blocking=True)\n",
    "        batch = log_melspec(batch)\n",
    "\n",
    "        opt.zero_grad()\n",
    "\n",
    "        # run model # with autocast():\n",
    "        logits = model(batch)\n",
    "        # we need probabilities so we use softmax & CE separately\n",
    "        probs = F.softmax(logits, dim=-1)\n",
    "        loss = F.cross_entropy(logits, labels)\n",
    "\n",
    "        loss.backward()\n",
    "        torch.nn.utils.clip_grad_norm_(model.parameters(), 5)\n",
    "\n",
    "        opt.step()\n",
    "        if scheduler:\n",
    "            scheduler.step()"
   ]
  },
  {
   "cell_type": "code",
   "execution_count": 21,
   "metadata": {
    "id": "UIeRbn4tqUYo"
   },
   "outputs": [],
   "source": [
    "@torch.no_grad()\n",
    "def validation(model, loader, log_melspec, device):\n",
    "    model.eval()\n",
    "\n",
    "    val_losses, accs, FAs, FRs = [], [], [], []\n",
    "    all_probs, all_labels = [], []\n",
    "    for i, (batch, labels) in tqdm(enumerate(loader)):\n",
    "        batch, labels = batch.to(device), labels.to(device)\n",
    "        batch = log_melspec(batch)\n",
    "\n",
    "        output = model(batch)\n",
    "        # we need probabilities so we use softmax & CE separately\n",
    "        probs = F.softmax(output, dim=-1)\n",
    "        loss = F.cross_entropy(output, labels)\n",
    "\n",
    "        # logging\n",
    "        argmax_probs = torch.argmax(probs, dim=-1)\n",
    "        all_probs.append(probs[:, 1].cpu())\n",
    "        all_labels.append(labels.cpu())\n",
    "        val_losses.append(loss.item())\n",
    "        accs.append(\n",
    "            torch.sum(argmax_probs == labels).item() /  # ???\n",
    "            torch.numel(argmax_probs)\n",
    "        )\n",
    "        FA, FR = count_FA_FR(argmax_probs, labels)\n",
    "        FAs.append(FA)\n",
    "        FRs.append(FR)\n",
    "\n",
    "    # area under FA/FR curve for whole loader\n",
    "    au_fa_fr = get_au_fa_fr(torch.cat(all_probs, dim=0).cpu(), all_labels)\n",
    "    return au_fa_fr"
   ]
  },
  {
   "cell_type": "code",
   "execution_count": 22,
   "metadata": {
    "id": "PpyvKwp0k3IU"
   },
   "outputs": [],
   "source": [
    "from collections import defaultdict\n",
    "from IPython.display import clear_output\n",
    "from matplotlib import pyplot as plt\n",
    "\n",
    "history = defaultdict(list)"
   ]
  },
  {
   "cell_type": "markdown",
   "metadata": {
    "id": "GSNW-nZCJ4Q0"
   },
   "source": [
    "# Training"
   ]
  },
  {
   "cell_type": "code",
   "execution_count": 23,
   "metadata": {
    "colab": {
     "base_uri": "https://localhost:8080/"
    },
    "id": "Q8sVpHNoocgA",
    "outputId": "f72cf20f-0877-4be9-8b6a-789086928b6c"
   },
   "outputs": [
    {
     "name": "stdout",
     "output_type": "stream",
     "text": [
      "CRNN(\n",
      "  (conv): Sequential(\n",
      "    (0): Conv2d(1, 8, kernel_size=(5, 20), stride=(2, 8))\n",
      "    (1): Flatten(start_dim=1, end_dim=2)\n",
      "  )\n",
      "  (gru): GRU(144, 32, num_layers=2, batch_first=True, dropout=0.1)\n",
      "  (attention): Attention(\n",
      "    (energy): Sequential(\n",
      "      (0): Linear(in_features=32, out_features=32, bias=True)\n",
      "      (1): Tanh()\n",
      "      (2): Linear(in_features=32, out_features=1, bias=True)\n",
      "    )\n",
      "  )\n",
      "  (classifier): Linear(in_features=32, out_features=2, bias=True)\n",
      ")\n"
     ]
    }
   ],
   "source": [
    "config = TaskConfig(hidden_size=32)\n",
    "model = CRNN(config).to(config.device)\n",
    "\n",
    "print(model)\n",
    "\n",
    "opt = torch.optim.Adam(\n",
    "    model.parameters(),\n",
    "    lr=config.learning_rate,\n",
    "    weight_decay=config.weight_decay\n",
    ")"
   ]
  },
  {
   "cell_type": "code",
   "execution_count": 24,
   "metadata": {
    "colab": {
     "base_uri": "https://localhost:8080/"
    },
    "id": "zedXm9dmINAE",
    "outputId": "35174419-43cb-4690-fa8a-773abca4f9cf"
   },
   "outputs": [
    {
     "data": {
      "text/plain": "25387"
     },
     "execution_count": 24,
     "metadata": {},
     "output_type": "execute_result"
    }
   ],
   "source": [
    "sum([p.numel() for p in model.parameters()])\n"
   ]
  },
  {
   "cell_type": "code",
   "execution_count": 25,
   "metadata": {
    "colab": {
     "base_uri": "https://localhost:8080/",
     "height": 297
    },
    "id": "32oooz4lqUYo",
    "outputId": "ae6ad76d-c127-4438-a2a5-7806838dcb37",
    "scrolled": false
   },
   "outputs": [
    {
     "data": {
      "text/plain": "<Figure size 432x288 with 1 Axes>",
      "image/png": "[encoded data removed]"
     },
     "metadata": {
      "needs_background": "light"
     },
     "output_type": "display_data"
    },
    {
     "name": "stdout",
     "output_type": "stream",
     "text": [
      "END OF EPOCH 19\n"
     ]
    }
   ],
   "source": [
    "# TRAIN\n",
    "\n",
    "for n in range(TaskConfig.num_epochs):\n",
    "\n",
    "    train_epoch(model, opt, train_loader,\n",
    "                melspec_train, config.device)\n",
    "\n",
    "    au_fa_fr = validation(model, val_loader,\n",
    "                          melspec_val, config.device)\n",
    "    history['val_metric'].append(au_fa_fr)\n",
    "\n",
    "    clear_output()\n",
    "    plt.plot(history['val_metric'])\n",
    "    plt.ylabel('Metric')\n",
    "    plt.xlabel('Epoch')\n",
    "    plt.grid()\n",
    "    plt.show()\n",
    "\n",
    "    print('END OF EPOCH', n)"
   ]
  },
  {
   "cell_type": "code",
   "execution_count": 26,
   "metadata": {
    "colab": {
     "base_uri": "https://localhost:8080/"
    },
    "id": "WBkTUHZcVugz",
    "outputId": "94e0c5a2-d1ed-4f7b-8691-069bb2aabfd9"
   },
   "outputs": [
    {
     "data": {
      "text/plain": "defaultdict(list,\n            {'val_metric': [0.003008707558935738,\n              0.0013857147703487602,\n              0.0009988521633006813,\n              0.0006741164506594483,\n              0.0004110790232880702,\n              0.00023815666696905038,\n              0.00017407960098889556,\n              0.0001246181065801339,\n              0.00010014452485794768,\n              8.222866293172378e-05,\n              8.529321826120945e-05,\n              7.71496446583804e-05,\n              5.7497915727342955e-05,\n              5.781937258008621e-05,\n              6.073391471162503e-05,\n              5.0425864966991416e-05,\n              4.3653840602533575e-05,\n              5.4240486286211334e-05,\n              5.359757258072484e-05,\n              4.9675798977257166e-05]})"
     },
     "execution_count": 26,
     "metadata": {},
     "output_type": "execute_result"
    }
   ],
   "source": [
    "history"
   ]
  },
  {
   "cell_type": "markdown",
   "metadata": {
    "id": "QRZB9KXyVvfa"
   },
   "source": [
    "### Reproduce"
   ]
  },
  {
   "cell_type": "code",
   "execution_count": 154,
   "metadata": {
    "colab": {
     "base_uri": "https://localhost:8080/"
    },
    "id": "t55FUkOGh9pT",
    "outputId": "3b7e14c2-41c5-4d95-a3a3-1eb885976a4d"
   },
   "outputs": [
    {
     "name": "stdout",
     "output_type": "stream",
     "text": [
      "CRNN(\n",
      "  (conv): Sequential(\n",
      "    (0): Conv2d(1, 8, kernel_size=(5, 20), stride=(2, 8))\n",
      "    (1): Flatten(start_dim=1, end_dim=2)\n",
      "  )\n",
      "  (gru): GRU(144, 32, num_layers=2, batch_first=True, dropout=0.1)\n",
      "  (attention): Attention(\n",
      "    (energy): Sequential(\n",
      "      (0): Linear(in_features=32, out_features=32, bias=True)\n",
      "      (1): Tanh()\n",
      "      (2): Linear(in_features=32, out_features=1, bias=True)\n",
      "    )\n",
      "  )\n",
      "  (classifier): Linear(in_features=32, out_features=2, bias=True)\n",
      ")\n"
     ]
    }
   ],
   "source": [
    "history = defaultdict(list)\n",
    "config = TaskConfig(hidden_size=32)\n",
    "model = CRNN(config).to(config.device)\n",
    "\n",
    "print(model)\n",
    "\n",
    "opt = torch.optim.Adam(\n",
    "    model.parameters(),\n",
    "    lr=config.learning_rate,\n",
    "    weight_decay=config.weight_decay\n",
    ")\n",
    "scheduler = torch.optim.lr_scheduler.StepLR(opt, step_size=30, gamma=1)"
   ]
  },
  {
   "cell_type": "code",
   "execution_count": 155,
   "metadata": {
    "colab": {
     "base_uri": "https://localhost:8080/",
     "height": 301
    },
    "id": "RqGOlKZbVt6j",
    "outputId": "868362be-33b1-48d7-a00f-7efa3ef91777"
   },
   "outputs": [
    {
     "data": {
      "text/plain": "<Figure size 432x288 with 1 Axes>",
      "image/png": "[encoded data removed]"
     },
     "metadata": {
      "needs_background": "light"
     },
     "output_type": "display_data"
    },
    {
     "name": "stdout",
     "output_type": "stream",
     "text": [
      "END OF EPOCH 19\n"
     ]
    }
   ],
   "source": [
    "# TRAIN\n",
    "\n",
    "from copy import deepcopy\n",
    "\n",
    "best_val = 1\n",
    "for n in range(TaskConfig.num_epochs):\n",
    "\n",
    "    train_epoch(model, opt, train_loader,\n",
    "                melspec_train, config.device, scheduler=scheduler)\n",
    "\n",
    "    au_fa_fr = validation(model, val_loader,\n",
    "                          melspec_val, config.device)\n",
    "    history['val_metric'].append(au_fa_fr)\n",
    "\n",
    "    if au_fa_fr < best_val:\n",
    "        baseline_dict = {'model': deepcopy(model.state_dict()),\n",
    "                         'opt': deepcopy(opt.state_dict())}\n",
    "        best_val = au_fa_fr\n",
    "\n",
    "\n",
    "    clear_output()\n",
    "    plt.plot(history['val_metric'])\n",
    "    plt.ylabel('Metric')\n",
    "    plt.xlabel('Epoch')\n",
    "    plt.grid()\n",
    "    plt.show()\n",
    "\n",
    "    print('END OF EPOCH', n)\n",
    "\n",
    "torch.save(baseline_dict, MODEL_FOLDER + \"baseline.pt\")\n",
    "baseline_model = CRNN(config=config).cuda()\n",
    "baseline_model.load_state_dict(baseline_dict[\"model\"])"
   ]
  },
  {
   "cell_type": "markdown",
   "source": [
    "## Начинаем делать домашку"
   ],
   "metadata": {
    "collapsed": false,
    "pycharm": {
     "name": "#%% md\n"
    }
   }
  },
  {
   "cell_type": "code",
   "execution_count": 23,
   "outputs": [],
   "source": [
    "from thop import profile\n",
    "from utils import Timer\n",
    "\n",
    "def get_model_info(model, val_loader, melspec_val, config, name=\"baseline_model\", is_quatized=False):\n",
    "    with Timer(name=name, verbose=True) as timer:\n",
    "        val = validation(model, val_loader, melspec_val, config.device)\n",
    "    macs = params = \"INCORRECT\"\n",
    "    if not is_quatized:\n",
    "        macs, params = profile(model, (torch.randn(1, config.n_mels, 100).cuda(),))\n",
    "    print(\"Значение метрики для модели:\", val)\n",
    "    print(\"Максимально допустимое значение метрики:\", 5e-5 * 1.1)\n",
    "    print(\"Baseline MACs:\", macs)\n",
    "    print(\"Baseline params:\", params)\n",
    "    print(\"Размер свёрточного слоя в байтах:\",\n",
    "          sum([p.numel() * p.element_size() for p in model.conv.parameters() if p.requires_grad]))\n",
    "    print(\"Размер рекуррентного слоя в байтах:\",\n",
    "                sum([p.numel() * p.element_size() for p in model.gru.parameters() if p.requires_grad]))\n",
    "    print(\"Размер слоя attention в байтах:\",\n",
    "                sum([p.numel() * p.element_size() for p in model.attention.parameters() if p.requires_grad]))\n",
    "    print(\"Размер классификационного слоя в байтах:\",\n",
    "                sum([p.numel() * p.element_size() for p in model.classifier.parameters() if p.requires_grad]))"
   ],
   "metadata": {
    "collapsed": false,
    "pycharm": {
     "name": "#%%\n"
    }
   }
  },
  {
   "cell_type": "markdown",
   "source": [
    "Выведем всю полезную информацию о качестве и размере бейзлайновой модели:"
   ],
   "metadata": {
    "collapsed": false,
    "pycharm": {
     "name": "#%% md\n"
    }
   }
  },
  {
   "cell_type": "code",
   "execution_count": 24,
   "outputs": [
    {
     "name": "stderr",
     "output_type": "stream",
     "text": [
      "54it [01:51,  2.07s/it]\n"
     ]
    },
    {
     "name": "stdout",
     "output_type": "stream",
     "text": [
      "Baseline_model | Elapsed time : 113.67\n",
      "[INFO] Register count_convNd() for <class 'torch.nn.modules.conv.Conv2d'>.\n",
      "[INFO] Register zero_ops() for <class 'torch.nn.modules.container.Sequential'>.\n",
      "[INFO] Register count_gru() for <class 'torch.nn.modules.rnn.GRU'>.\n",
      "[INFO] Register count_linear() for <class 'torch.nn.modules.linear.Linear'>.\n",
      "Значение метрики для модели: 4.189654314087047e-05\n",
      "Максимально допустимое значение метрики: 5.500000000000001e-05\n",
      "Baseline MACs: 432672.0\n",
      "Baseline params: 25387.0\n",
      "Размер свёрточного слоя в байтах: 3232\n",
      "Размер рекуррентного слоя в байтах: 93696\n",
      "Размер слоя attention в байтах: 4356\n",
      "Размер классификационного слоя в байтах: 264\n"
     ]
    }
   ],
   "source": [
    "config = TaskConfig(hidden_size=32)\n",
    "baseline_dict = torch.load(MODEL_FOLDER + \"baseline.pt\")\n",
    "baseline_model = CRNN(config=config).cuda()\n",
    "baseline_model.load_state_dict(baseline_dict[\"model\"])\n",
    "\n",
    "get_model_info(baseline_model, val_loader, melspec_val, config)"
   ],
   "metadata": {
    "collapsed": false,
    "pycharm": {
     "name": "#%%\n"
    }
   }
  },
  {
   "cell_type": "markdown",
   "source": [
    "### Compression\n",
    "\n",
    "Начнём с knowledge distilation свёрточного и рекуррентного слоя.\n",
    "Свёрточный слой, конечно, и так не очень большой, но если мы сможем там выиграть, то почему бы и нет.\n",
    "\n",
    "Для начала напишем функцию обучения модели-студента. В качестве reference я использую слайд про response-based\n",
    "knowledge distilation с шестой лекции."
   ],
   "metadata": {
    "collapsed": false
   }
  },
  {
   "cell_type": "code",
   "execution_count": 25,
   "outputs": [],
   "source": [
    "def distil_train_one_epoch(student_model, teacher_model, opt, scheduler, loader,\n",
    "                           T, log_melspec, device, loss_coeffs):\n",
    "    student_model.train()\n",
    "    teacher_model.train()\n",
    "    for idx, (batch, labels) in tqdm(enumerate(loader), total=len(loader)):\n",
    "        batch = batch.to(device, non_blocking=True)\n",
    "        labels = labels.to(device, non_blocking=True)\n",
    "        batch = log_melspec(batch)\n",
    "\n",
    "        opt.zero_grad()\n",
    "        teacher_logits = teacher_model(batch).detach()\n",
    "        student_logits = student_model(batch)\n",
    "        teacher_soft_targets = F.softmax(teacher_logits / T, dim=-1)\n",
    "        student_soft_targets = F.softmax(student_logits / T, dim=-1)\n",
    "\n",
    "        distil_loss = F.cross_entropy(student_soft_targets, teacher_soft_targets)\n",
    "        student_loss = F.cross_entropy(student_soft_targets, labels)\n",
    "        loss = loss_coeffs[0] * distil_loss + loss_coeffs[1] * student_loss\n",
    "\n",
    "        loss.backward()\n",
    "        torch.nn.utils.clip_grad_norm_(student_model.parameters(), 5)\n",
    "        opt.step()\n",
    "        scheduler.step()\n",
    "\n",
    "def define_model(cfg):\n",
    "    model = CRNN(cfg).to(cfg.device)\n",
    "    opt = torch.optim.Adam(\n",
    "        model.parameters(),\n",
    "        lr=cfg.learning_rate,\n",
    "        weight_decay=cfg.weight_decay)\n",
    "    scheduler = torch.optim.lr_scheduler.StepLR(opt, step_size=30, gamma=1)\n",
    "    return model, opt, scheduler"
   ],
   "metadata": {
    "collapsed": false,
    "pycharm": {
     "name": "#%%\n"
    }
   }
  },
  {
   "cell_type": "code",
   "execution_count": 33,
   "outputs": [],
   "source": [
    "\n",
    "distil_config_1 = TaskConfig(num_epochs=35, cnn_out_channels=4, hidden_size=32)\n",
    "model_name = \"distil_model_1\"\n",
    "distil_model, opt, scheduler = define_model(distil_config_1)\n",
    "\n",
    "softmax_T = 3\n",
    "loss_coeffs = (1, 0.5)"
   ],
   "metadata": {
    "collapsed": false,
    "pycharm": {
     "name": "#%%\n"
    }
   }
  },
  {
   "cell_type": "code",
   "execution_count": 27,
   "outputs": [],
   "source": [
    "from copy import deepcopy\n",
    "\n",
    "def train(teacher_model, distil_model, opt, scheduler, softmax_T,\n",
    "                melspec_train, config, loss_coeffs,\n",
    "                val_loader, melspec_val, model_name=\"snapshot\"):\n",
    "    history = defaultdict(list)\n",
    "    best_val = 1\n",
    "    for n in range(config.num_epochs):\n",
    "\n",
    "        distil_train_one_epoch(distil_model, teacher_model, opt, scheduler, train_loader, softmax_T,\n",
    "                    melspec_train, config.device, loss_coeffs)\n",
    "\n",
    "        au_fa_fr = validation(distil_model, val_loader,\n",
    "                            melspec_val, config.device)\n",
    "        history['val_metric'].append(au_fa_fr)\n",
    "\n",
    "        if au_fa_fr < best_val:\n",
    "            distil_model_dict = {'model': deepcopy(distil_model.state_dict()),\n",
    "                             'opt': deepcopy(opt.state_dict())}\n",
    "            best_val = au_fa_fr\n",
    "\n",
    "\n",
    "        clear_output()\n",
    "        plt.plot(history['val_metric'])\n",
    "        plt.ylabel('Metric')\n",
    "        plt.xlabel('Epoch')\n",
    "        plt.grid()\n",
    "        plt.show()\n",
    "\n",
    "    torch.save(distil_model_dict, MODEL_FOLDER + f\"{model_name}.pt\")\n",
    "    distil_model = CRNN(config=config).to(config.device).half()\n",
    "    distil_model.load_state_dict(distil_model_dict[\"model\"])\n",
    "    return history, distil_model_dict"
   ],
   "metadata": {
    "collapsed": false,
    "pycharm": {
     "name": "#%%\n"
    }
   }
  },
  {
   "cell_type": "code",
   "execution_count": 35,
   "outputs": [
    {
     "data": {
      "text/plain": "<Figure size 432x288 with 1 Axes>",
      "image/png": "[encoded data removed]"
     },
     "metadata": {
      "needs_background": "light"
     },
     "output_type": "display_data"
    }
   ],
   "source": [
    "_, distil_model_dict = train(baseline_model, distil_model, opt, scheduler, softmax_T,\n",
    "                          melspec_train, distil_config_1, loss_coeffs,\n",
    "                          val_loader, melspec_val)\n",
    "torch.save(distil_model_dict, MODEL_FOLDER + model_name)\n"
   ],
   "metadata": {
    "collapsed": false,
    "pycharm": {
     "name": "#%%\n"
    }
   }
  },
  {
   "cell_type": "code",
   "execution_count": 36,
   "outputs": [
    {
     "name": "stderr",
     "output_type": "stream",
     "text": [
      "54it [00:01, 39.37it/s]\n"
     ]
    },
    {
     "name": "stdout",
     "output_type": "stream",
     "text": [
      "Distil_model_1 | Elapsed time : 3.56\n",
      "[INFO] Register count_convNd() for <class 'torch.nn.modules.conv.Conv2d'>.\n",
      "[INFO] Register zero_ops() for <class 'torch.nn.modules.container.Sequential'>.\n",
      "[INFO] Register count_gru() for <class 'torch.nn.modules.rnn.GRU'>.\n",
      "[INFO] Register count_linear() for <class 'torch.nn.modules.linear.Linear'>.\n",
      "Значение метрики для модели: 4.3182370551843476e-05\n",
      "Максимально допустимое значение метрики: 5.500000000000001e-05\n",
      "Baseline MACs: 277440.0\n",
      "Baseline params: 18071.0\n",
      "Размер свёрточного слоя в байтах: 1616\n",
      "Размер рекуррентного слоя в байтах: 66048\n",
      "Размер слоя attention в байтах: 4356\n",
      "Размер классификационного слоя в байтах: 264\n"
     ]
    }
   ],
   "source": [
    "get_model_info(distil_model, val_loader, melspec_val, distil_config_1, name=model_name)"
   ],
   "metadata": {
    "collapsed": false,
    "pycharm": {
     "name": "#%%\n"
    }
   }
  },
  {
   "cell_type": "markdown",
   "source": [
    "Интересный эффект: модель стала меньше, работает быстрее, и качество при этом лучше (вероятно из-за того что мы её дольше обучаем).\n",
    "Это нам на руку, учитывая, что дальше мы будем её сжимать сильнее. Пока мы только существенно уменьшили свёрточный слой.\n",
    "Рекуррентный при этом тоже сжался, но не очень сильно. Теперь дополнительно уменьшим hidden_size, за счёт чего сильнее сожмётся рекуррентный слой."
   ],
   "metadata": {
    "collapsed": false,
    "pycharm": {
     "name": "#%% md\n"
    }
   }
  },
  {
   "cell_type": "code",
   "execution_count": 37,
   "outputs": [
    {
     "data": {
      "text/plain": "<Figure size 432x288 with 1 Axes>",
      "image/png": "[encoded data removed]"
     },
     "metadata": {
      "needs_background": "light"
     },
     "output_type": "display_data"
    }
   ],
   "source": [
    "distil_config_2 = TaskConfig(num_epochs=35, cnn_out_channels=4, hidden_size=16)\n",
    "model_name = \"distil_model_2\"\n",
    "distil_model, opt, scheduler = define_model(distil_config_2)\n",
    "\n",
    "_, distil_model_dict = train(baseline_model, distil_model, opt, scheduler, softmax_T,\n",
    "                          melspec_train, distil_config_2, loss_coeffs,\n",
    "                          val_loader, melspec_val)\n",
    "torch.save(distil_model_dict, MODEL_FOLDER + model_name)"
   ],
   "metadata": {
    "collapsed": false,
    "pycharm": {
     "name": "#%%\n"
    }
   }
  },
  {
   "cell_type": "code",
   "execution_count": 38,
   "outputs": [
    {
     "name": "stderr",
     "output_type": "stream",
     "text": [
      "54it [00:01, 41.39it/s]\n"
     ]
    },
    {
     "name": "stdout",
     "output_type": "stream",
     "text": [
      "Distil_model_2 | Elapsed time : 3.49\n",
      "[INFO] Register count_convNd() for <class 'torch.nn.modules.conv.Conv2d'>.\n",
      "[INFO] Register zero_ops() for <class 'torch.nn.modules.container.Sequential'>.\n",
      "[INFO] Register count_gru() for <class 'torch.nn.modules.rnn.GRU'>.\n",
      "[INFO] Register count_linear() for <class 'torch.nn.modules.linear.Linear'>.\n",
      "Значение метрики для модели: 0.00011783536698725131\n",
      "Максимально допустимое значение метрики: 5.500000000000001e-05\n",
      "Baseline MACs: 150160.0\n",
      "Baseline params: 6679.0\n",
      "Размер свёрточного слоя в байтах: 1616\n",
      "Размер рекуррентного слоя в байтах: 23808\n",
      "Размер слоя attention в байтах: 1156\n",
      "Размер классификационного слоя в байтах: 136\n"
     ]
    }
   ],
   "source": [
    "get_model_info(distil_model, val_loader, melspec_val, distil_config_2, name=model_name)"
   ],
   "metadata": {
    "collapsed": false,
    "pycharm": {
     "name": "#%%\n"
    }
   }
  },
  {
   "cell_type": "markdown",
   "source": [
    "Получилось неудачно: MACs стало в два раза меньше, но при этом модель работает довольно долго,\n",
    "и показывает слишком низкое качетво. Попробуем немного поднять hidden_size:"
   ],
   "metadata": {
    "collapsed": false,
    "pycharm": {
     "name": "#%% md\n"
    }
   }
  },
  {
   "cell_type": "code",
   "execution_count": 40,
   "outputs": [
    {
     "data": {
      "text/plain": "<Figure size 432x288 with 1 Axes>",
      "image/png": "[encoded data removed]"
     },
     "metadata": {
      "needs_background": "light"
     },
     "output_type": "display_data"
    }
   ],
   "source": [
    "distil_config_3 = TaskConfig(num_epochs=35, cnn_out_channels=4, hidden_size=20)\n",
    "model_name = \"distil_model_3\"\n",
    "distil_model, opt, scheduler = define_model(distil_config_3)\n",
    "\n",
    "_, distil_model_dict = train(baseline_model, distil_model, opt, scheduler, softmax_T,\n",
    "                          melspec_train, distil_config_3, loss_coeffs,\n",
    "                          val_loader, melspec_val)\n",
    "torch.save(distil_model_dict, MODEL_FOLDER + model_name)"
   ],
   "metadata": {
    "collapsed": false,
    "pycharm": {
     "name": "#%%\n"
    }
   }
  },
  {
   "cell_type": "code",
   "execution_count": 41,
   "outputs": [
    {
     "name": "stderr",
     "output_type": "stream",
     "text": [
      "54it [00:01, 42.03it/s]\n"
     ]
    },
    {
     "name": "stdout",
     "output_type": "stream",
     "text": [
      "Distil_model_3 | Elapsed time : 3.52\n",
      "[INFO] Register count_convNd() for <class 'torch.nn.modules.conv.Conv2d'>.\n",
      "[INFO] Register zero_ops() for <class 'torch.nn.modules.container.Sequential'>.\n",
      "[INFO] Register count_gru() for <class 'torch.nn.modules.rnn.GRU'>.\n",
      "[INFO] Register count_linear() for <class 'torch.nn.modules.linear.Linear'>.\n",
      "Значение метрики для модели: 8.528250303278468e-05\n",
      "Максимально допустимое значение метрики: 5.500000000000001e-05\n",
      "Baseline MACs: 176700.0\n",
      "Baseline params: 9047.0\n",
      "Размер свёрточного слоя в байтах: 1616\n",
      "Размер рекуррентного слоя в байтах: 32640\n",
      "Размер слоя attention в байтах: 1764\n",
      "Размер классификационного слоя в байтах: 168\n"
     ]
    }
   ],
   "source": [
    "get_model_info(distil_model, val_loader, melspec_val, distil_config_3, name=model_name)"
   ],
   "metadata": {
    "collapsed": false,
    "pycharm": {
     "name": "#%%\n"
    }
   }
  },
  {
   "cell_type": "markdown",
   "source": [
    "MACs после прошлого эксперимента выросли незначительно, хотя качество существенно\n",
    "лучше. Однако модель всё ещё очень медленная.\n",
    "\n",
    "UPD: пошёл в чатик и нашёл, что качество мы меряем только во флопсах (или в MACs'ах).\n",
    "Тогда построим пару графиков: зависимость MACs и числа параметров от cnn_out_chanenels и зависимость\n",
    "MACs и числа параметров от hidden_size. Зависимость по каждому из параметров будем измерять при фиксированном втором."
   ],
   "metadata": {
    "collapsed": false,
    "pycharm": {
     "name": "#%% md\n"
    }
   }
  },
  {
   "cell_type": "code",
   "execution_count": 44,
   "outputs": [
    {
     "data": {
      "text/plain": "<Figure size 432x288 with 1 Axes>",
      "image/png": "[encoded data removed]"
     },
     "metadata": {
      "needs_background": "light"
     },
     "output_type": "display_data"
    },
    {
     "name": "stdout",
     "output_type": "stream",
     "text": [
      "[INFO] Register count_convNd() for <class 'torch.nn.modules.conv.Conv2d'>.\n",
      "[INFO] Register zero_ops() for <class 'torch.nn.modules.container.Sequential'>.\n",
      "[INFO] Register count_gru() for <class 'torch.nn.modules.rnn.GRU'>.\n",
      "[INFO] Register count_linear() for <class 'torch.nn.modules.linear.Linear'>.\n"
     ]
    }
   ],
   "source": [
    "channels = [2, 4, 6, 8]\n",
    "h_sizes = [21, 24, 28, 30]\n",
    "MACs_per_channels = []\n",
    "params_per_channels = []\n",
    "MACs_per_sizes = []\n",
    "params_per_sizes = []\n",
    "\n",
    "for channel in channels:\n",
    "    cfg = TaskConfig(num_epochs=35, cnn_out_channels=channel, hidden_size=32)\n",
    "    distil_model, opt, scheduler = define_model(cfg)\n",
    "\n",
    "    mdl_dict = train(baseline_model, distil_model, opt, scheduler, softmax_T,\n",
    "                      melspec_train, cfg, loss_coeffs,\n",
    "                      val_loader, melspec_val)\n",
    "    macs, params = profile(distil_model, (torch.randn(1, config.n_mels, 100).cuda(),))\n",
    "    MACs_per_channels.append(macs)\n",
    "    params_per_channels.append(params)\n",
    "\n",
    "for size in h_sizes:\n",
    "    cfg = TaskConfig(num_epochs=35, cnn_out_channels=8, hidden_size=size)\n",
    "    distil_model, opt, scheduler = define_model(cfg)\n",
    "\n",
    "    mdl_dict = train(baseline_model, distil_model, opt, scheduler, softmax_T,\n",
    "                      melspec_train, cfg, loss_coeffs,\n",
    "                      val_loader, melspec_val)\n",
    "    macs, params = profile(distil_model, (torch.randn(1, config.n_mels, 100).cuda(),))\n",
    "    MACs_per_sizes.append(macs)\n",
    "    params_per_sizes.append(params)"
   ],
   "metadata": {
    "collapsed": false,
    "pycharm": {
     "name": "#%%\n"
    }
   }
  },
  {
   "cell_type": "code",
   "execution_count": 55,
   "outputs": [
    {
     "data": {
      "text/plain": "<Figure size 720x720 with 4 Axes>",
      "image/png": "[encoded data removed]"
     },
     "metadata": {
      "needs_background": "light"
     },
     "output_type": "display_data"
    }
   ],
   "source": [
    "plt.figure(figsize=(10, 10))\n",
    "plt.subplot(2, 2, 1)\n",
    "plt.plot(channels, MACs_per_channels)\n",
    "plt.scatter(channels, MACs_per_channels, color=\"tab:orange\")\n",
    "plt.ylabel('MACs')\n",
    "plt.xlabel('cnn_out_channels')\n",
    "plt.semilogy()\n",
    "plt.grid()\n",
    "plt.subplot(2, 2, 2)\n",
    "plt.plot(h_sizes, MACs_per_sizes)\n",
    "plt.scatter(h_sizes, MACs_per_sizes, color=\"tab:orange\")\n",
    "plt.ylabel('MACs')\n",
    "plt.xlabel('hidden_size')\n",
    "plt.semilogy()\n",
    "plt.grid()\n",
    "plt.subplot(2, 2, 3)\n",
    "plt.plot(channels, params_per_channels)\n",
    "plt.scatter(channels, params_per_channels, color=\"tab:orange\")\n",
    "plt.ylabel('Params')\n",
    "plt.xlabel('cnn_out_channels')\n",
    "plt.semilogy()\n",
    "plt.grid()\n",
    "plt.subplot(2, 2, 4)\n",
    "plt.plot(h_sizes, params_per_sizes)\n",
    "plt.scatter(h_sizes, params_per_sizes, color=\"tab:orange\")\n",
    "plt.ylabel('Params')\n",
    "plt.xlabel('hidden_size')\n",
    "plt.semilogy()\n",
    "plt.grid()\n",
    "plt.tight_layout(pad=0.4, w_pad=0.5, h_pad=1.)\n",
    "plt.show()"
   ],
   "metadata": {
    "collapsed": false,
    "pycharm": {
     "name": "#%%\n"
    }
   }
  },
  {
   "cell_type": "markdown",
   "source": [
    "При помощи логарифмической шкалы можно заметить, что зависимость сложности модели от\n",
    "cnn_out_channels скорее линейная, а от hidden_size скорее экспоненциальная. А значит, если мы сильнее снизим\n",
    "hidden_size, при этом немного подняв число каналов в свёрточном слое -- мы всё равно выигрываем.\n",
    "\n",
    "Тут дальше должен быть grid_search по параметрам cnn_channels и hidden_size. Код я напишу, но не факт, что буду\n",
    "запускать, ясно, что работать он будет долго. Зато на выходе мы должны получить лучшую с точки зрения MACs и params модель,\n",
    "показывающую приемлемое качество."
   ],
   "metadata": {
    "collapsed": false,
    "pycharm": {
     "name": "#%% md\n"
    }
   }
  },
  {
   "cell_type": "code",
   "execution_count": null,
   "outputs": [
    {
     "data": {
      "text/plain": "<Figure size 432x288 with 1 Axes>",
      "image/png": "[encoded data removed]"
     },
     "metadata": {
      "needs_background": "light"
     },
     "output_type": "display_data"
    },
    {
     "name": "stderr",
     "output_type": "stream",
     "text": [
      "  5%|▌         | 11/214 [00:11<00:10, 19.01it/s]"
     ]
    }
   ],
   "source": [
    "MAC_matrix = np.empty((4, 4), np.float32)\n",
    "params_matrix = np.empty((4, 4), np.float32)\n",
    "val_matrix = np.empty((4, 4), np.float32)\n",
    "\n",
    "for i, channel in enumerate(channels):\n",
    "    for j, size in enumerate(h_sizes):\n",
    "        cfg = TaskConfig(num_epochs=35,\n",
    "                         cnn_out_channels=channel,\n",
    "                         hidden_size=size)\n",
    "        distil_model, opt, scheduler = define_model(cfg)\n",
    "        mdl_name = f\"distil_h_{size}_c_{channel}\"\n",
    "\n",
    "        mdl_dict = train(baseline_model, distil_model, opt, scheduler, softmax_T,\n",
    "                          melspec_train, cfg, loss_coeffs,\n",
    "                          val_loader, melspec_val, model_name=mdl_name)\n",
    "        macs, params = profile(distil_model, (torch.randn(1, cfg.n_mels, 100).cuda(),))\n",
    "        val = validation(distil_model, val_loader, melspec_val, cfg.device)\n",
    "        val_matrix[i, j] = val\n",
    "        MAC_matrix[i, j] = macs\n",
    "        params_matrix[i, j] = params"
   ],
   "metadata": {
    "collapsed": false,
    "pycharm": {
     "name": "#%%\n",
     "is_executing": true
    }
   }
  },
  {
   "cell_type": "code",
   "execution_count": null,
   "outputs": [],
   "source": [
    "view_point = (45, 0)\n",
    "fig = plt.figure(figsize=(30, 10))\n",
    "ax = [fig.add_subplot(1, 3, 1, projection='3d'), fig.add_subplot(1, 3, 2, projection='3d'),\n",
    "      fig.add_subplot(1, 3, 3, projection='3d')]\n",
    "\n",
    "ax[0].set(title=\"MACs\")\n",
    "ax[1].set(title=\"Params\")\n",
    "ax[2].set(title=\"Val\")\n",
    "\n",
    "ax[0].plot_surface(channels, h_sizes, MAC_matrix, rstride=1, cstride=1,\n",
    "                cmap='viridis', edgecolor='none')\n",
    "ax[1].plot_surface(channels, h_sizes, params_matrix, rstride=1, cstride=1,\n",
    "                cmap='viridis', edgecolor='none')\n",
    "ax[2].plot_surface(channels, h_sizes, val_matrix, rstride=1, cstride=1,\n",
    "                cmap='viridis', edgecolor='none')\n",
    "\n",
    "ax[0].view_init(elev=view_point[0], azim=view_point[1])\n",
    "ax[1].view_init(elev=view_point[0], azim=view_point[1])\n",
    "ax[2].view_init(elev=view_point[0], azim=view_point[1])\n",
    "\n",
    "plt.show()"
   ],
   "metadata": {
    "collapsed": false,
    "pycharm": {
     "name": "#%%\n",
     "is_executing": true
    }
   }
  },
  {
   "cell_type": "markdown",
   "source": [
    "### Сжатие fp16\n",
    "\n",
    "Здесь я попробую сжать модель в прямом смысле этого слова, переведя все её веса в тип float16. Таким образом мы должны гарантированно получить\n",
    "двухкратный выигрыш в занимаемой памяти.\n",
    "\n",
    "Вспомним, что в LogMelspec мы клипаем значения до max(float32) и min(float32), и это поведение нам нужно поменять, для работы с fp16:"
   ],
   "metadata": {
    "collapsed": false,
    "pycharm": {
     "name": "#%% md\n"
    }
   }
  },
  {
   "cell_type": "code",
   "execution_count": 28,
   "outputs": [],
   "source": [
    "# Очень просто исправляем класс с помощью наследования\n",
    "class LogMelspecFp16(LogMelspec):\n",
    "    def __call__(self, batch):\n",
    "        # print(batch.dtype)\n",
    "        return torch.log(self.melspec(batch).clamp_(min=1e-4, max=1e5).half())\n",
    "\n",
    "melspec_train_fp16 = LogMelspecFp16(is_train=True, config=TaskConfig)\n",
    "melspec_val_fp16 = LogMelspecFp16(is_train=False, config=TaskConfig)"
   ],
   "metadata": {
    "collapsed": false,
    "pycharm": {
     "name": "#%%\n"
    }
   }
  },
  {
   "cell_type": "markdown",
   "source": [
    "Теперь обучаем модель. Возьмём для начала бейзлайновую модель, просто срежем точность её весов до float16, а потом уже будем издеваться над\n",
    "нашими дистилированными моделями. Не забываем так же, что сейчас learning_rate в конфиге порядка 3e-4, а это уже на грани машинной точности,\n",
    "поэтому, немного его поднимем."
   ],
   "metadata": {
    "collapsed": false,
    "pycharm": {
     "name": "#%% md\n"
    }
   }
  },
  {
   "cell_type": "code",
   "execution_count": 103,
   "outputs": [],
   "source": [
    "fp16_baseline_config = TaskConfig(learning_rate=1e-3, weight_decay=1e-3, hidden_size=32)\n",
    "fp16_model = CRNN(fp16_baseline_config).to(fp16_baseline_config.device).half()\n",
    "model_name=\"fp16_baseline\"\n",
    "\n",
    "opt = torch.optim.Adam(\n",
    "    fp16_model.parameters(),\n",
    "    lr=fp16_baseline_config.learning_rate,\n",
    "    weight_decay=fp16_baseline_config.weight_decay,\n",
    "    eps=1e-4 # про параметры адама тоже помним. Зачем я вообще использую для этого адам....\n",
    ")"
   ],
   "metadata": {
    "collapsed": false,
    "pycharm": {
     "name": "#%%\n"
    }
   }
  },
  {
   "cell_type": "code",
   "execution_count": 104,
   "outputs": [
    {
     "data": {
      "text/plain": "<Figure size 432x288 with 1 Axes>",
      "image/png": "[encoded data removed]"
     },
     "metadata": {
      "needs_background": "light"
     },
     "output_type": "display_data"
    },
    {
     "name": "stdout",
     "output_type": "stream",
     "text": [
      "END OF EPOCH 19\n"
     ]
    }
   ],
   "source": [
    "best_val = 1\n",
    "history = defaultdict(list)\n",
    "for n in range(TaskConfig.num_epochs):\n",
    "    train_epoch(fp16_model, opt, train_loader,\n",
    "                melspec_train_fp16, fp16_baseline_config.device, scheduler=scheduler)\n",
    "\n",
    "    au_fa_fr = validation(fp16_model, val_loader,\n",
    "                          melspec_val_fp16, fp16_baseline_config.device)\n",
    "    history['val_metric'].append(au_fa_fr)\n",
    "\n",
    "    if au_fa_fr < best_val:\n",
    "        fp16_baseline_dict = {'model': deepcopy(fp16_model.state_dict()),\n",
    "                         'opt': deepcopy(opt.state_dict())}\n",
    "        best_val = au_fa_fr\n",
    "\n",
    "\n",
    "    clear_output()\n",
    "    plt.plot(history['val_metric'])\n",
    "    plt.ylabel('Metric')\n",
    "    plt.xlabel('Epoch')\n",
    "    plt.grid()\n",
    "    plt.show()\n",
    "\n",
    "    print('END OF EPOCH', n)\n",
    "\n",
    "fp16_model = CRNN(config=fp16_baseline_config).to(fp16_baseline_config.device).half()\n",
    "fp16_model.load_state_dict(fp16_baseline_dict[\"model\"])\n",
    "torch.save(fp16_baseline_dict, MODEL_FOLDER + f\"{model_name}.pt\")"
   ],
   "metadata": {
    "collapsed": false,
    "pycharm": {
     "name": "#%%\n"
    }
   }
  },
  {
   "cell_type": "code",
   "execution_count": 148,
   "outputs": [
    {
     "name": "stderr",
     "output_type": "stream",
     "text": [
      "54it [00:01, 40.38it/s]\n"
     ]
    },
    {
     "name": "stdout",
     "output_type": "stream",
     "text": [
      "Fp16_baseline | Elapsed time : 4.70\n",
      "Значение метрики для модели: 4.4264608622745756e-05\n",
      "Максимально допустимое значение метрики: 5.500000000000001e-05\n",
      "Baseline MACs: INCORRECT\n",
      "Baseline params: INCORRECT\n",
      "Размер свёрточного слоя в байтах: 1616\n",
      "Размер рекуррентного слоя в байтах: 46848\n",
      "Размер слоя attention в байтах: 2178\n",
      "Размер классификационного слоя в байтах: 132\n"
     ]
    }
   ],
   "source": [
    "get_model_info(fp16_model, val_loader, melspec_val_fp16, fp16_baseline_config, name=model_name, is_quatized=True)"
   ],
   "metadata": {
    "collapsed": false,
    "pycharm": {
     "name": "#%%\n"
    }
   }
  },
  {
   "cell_type": "markdown",
   "source": [
    "Можно заметить, что обученная модель в fp16 во-первых достигает приемлемого качества,\n",
    "во-вторых значительно меньше, чем аналогичная модель в fp32. Мы знаем, что переход в fp16, и впринципе квантизация ломает\n",
    "профилирование thop, и корректно считать MACs уже не получится, но мы так же знаем,\n",
    "что значение FLOPs, и, как следствие, MACs от изменения формата представления чисел в памяти не меняется.\n",
    "Поэтому значение MACs этой модели всё ещё равно значению MACs у исходной бейзлайновой модели (что-то около 500к).\n",
    "\n",
    "Так же довольно очевидно (я даже не буду это проверять), что обучить модель fp16 с нуля будет профитнее с точки зрения качества,\n",
    "чем взять обученную модель, и перевести её в fp16.\n",
    "\n",
    "### Quatization\n",
    "\n",
    "Я хотел применить тут QAT, но я не понял, куда можно его накинуть, не меняя\n",
    "при этом архитектуру модели. Поэтому я попробую разобраться (для начала на бейзлайновой модели), как\n",
    "квантизовать модель в INT8. А именно буду накидывать динамическую квантизацию на два наиболее тяжеловесных слоя:\n",
    "рекуррентный и attention."
   ],
   "metadata": {
    "collapsed": false,
    "pycharm": {
     "name": "#%% md\n"
    }
   }
  },
  {
   "cell_type": "code",
   "execution_count": 62,
   "outputs": [
    {
     "name": "stderr",
     "output_type": "stream",
     "text": [
      "54it [00:04, 11.24it/s]\n"
     ]
    },
    {
     "name": "stdout",
     "output_type": "stream",
     "text": [
      "Q_baseline_model | Elapsed time : 6.97\n",
      "Значение метрики для модели: 4.003209339495961e-05\n",
      "Максимально допустимое значение метрики: 5.500000000000001e-05\n",
      "Baseline MACs: INCORRECT\n",
      "Baseline params: INCORRECT\n",
      "Размер свёрточного слоя в байтах: 3232\n",
      "Размер рекуррентного слоя в байтах: 0\n",
      "Размер слоя attention в байтах: 0\n",
      "Размер классификационного слоя в байтах: 264\n"
     ]
    }
   ],
   "source": [
    "\n",
    "q_config = TaskConfig(hidden_size=32, device=\"cpu\")\n",
    "q_model_dict = torch.load(MODEL_FOLDER + \"baseline.pt\")\n",
    "q_model_dict = q_model_dict[\"model\"]\n",
    "q_model = CRNN(q_config).to(q_config.device)\n",
    "q_model.load_state_dict(q_model_dict)\n",
    "model_name=\"q_baseline_model\"\n",
    "q_model = torch.quantization.quantize_dynamic(\n",
    "    q_model,  # the original model\n",
    "    {torch.nn.GRU, Attention},  # a set of layers to dynamically quantize\n",
    "    dtype=torch.qint8)\n",
    "\n",
    "q_melspec_val = LogMelspec(is_train=False, config=q_config)\n",
    "get_model_info(q_model, val_loader, q_melspec_val, q_config, name=model_name,\n",
    "               is_quatized=True)"
   ],
   "metadata": {
    "collapsed": false,
    "pycharm": {
     "name": "#%%\n"
    }
   }
  },
  {
   "cell_type": "markdown",
   "source": [
    "Отличное сжатие! А вообще для int8 сломался ещё и подсчёт размера квантизованных слоёв, поэтому напишем его ручками:"
   ],
   "metadata": {
    "collapsed": false,
    "pycharm": {
     "name": "#%% md\n"
    }
   }
  },
  {
   "cell_type": "code",
   "execution_count": 98,
   "outputs": [
    {
     "name": "stdout",
     "output_type": "stream",
     "text": [
      "Размер рекуррентного слоя в байтах: 18560\n",
      "Размер слоя attention в байтах: 2178\n"
     ]
    }
   ],
   "source": [
    "def count_quatized_size(model):\n",
    "    atn = [p for p in model.attention.energy]\n",
    "    return (model.gru.input_size * model.gru.hidden_size + model.gru.hidden_size) * q_model.gru.num_layers * 2,\\\n",
    "    (atn[0].in_features * atn[0].out_features + atn[0].out_features +\n",
    "    atn[2].in_features * atn[2].out_features + atn[2].out_features) * 2\n",
    "\n",
    "gru_size, attn_size = count_quatized_size(q_model)\n",
    "print(\"Размер рекуррентного слоя в байтах:\", gru_size)\n",
    "print(\"Размер слоя attention в байтах:\", attn_size)"
   ],
   "metadata": {
    "collapsed": false,
    "pycharm": {
     "name": "#%%\n"
    }
   }
  },
  {
   "cell_type": "markdown",
   "source": [
    "Остаётся только пригнать лучшие настройки для дистилированной модели, обучить её в fp16\n",
    "и добавить динамической квантизации, итого мы должны получить мелкую, быструю модель с хорошим качеством."
   ],
   "metadata": {
    "collapsed": false,
    "pycharm": {
     "name": "#%% md\n"
    }
   }
  },
  {
   "cell_type": "code",
   "source": [
    "fp16_baseline_cfg = TaskConfig(learning_rate=1e-3, weight_decay=1e-3, hidden_size=32)\n",
    "fp16_baseline_dict = torch.load(MODEL_FOLDER + \"fp16_baseline.pt\")\n",
    "fp16_baseline = CRNN(config=fp16_baseline_config).to(fp16_baseline_config.device).half()\n",
    "fp16_baseline.load_state_dict(fp16_baseline_dict[\"model\"])\n",
    "# Будем дистилировать бейзлайновую модель, обученную на fp16\n",
    "best_model_cfg = TaskConfig(num_epochs=35, cnn_out_channels=4, hidden_size=21, learning_rate=1e-3, weight_decay=1e-3)\n",
    "model_name = \"best_model\"\n",
    "best_model = CRNN(best_model_cfg).to(best_model_cfg.device).half()\n",
    "opt = torch.optim.Adam(\n",
    "    best_model.parameters(),\n",
    "    lr=best_model_cfg.learning_rate,\n",
    "    weight_decay=best_model_cfg.weight_decay,\n",
    "    eps=1e-4\n",
    ")\n",
    "\n",
    "_, distil_model_dict = train(fp16_baseline, best_model, opt, scheduler, softmax_T,\n",
    "                          melspec_train_fp16, best_model_cfg, loss_coeffs,\n",
    "                          val_loader, melspec_val_fp16)\n",
    "torch.save(distil_model_dict, MODEL_FOLDER + f\"{model_name}.pt\")"
   ],
   "metadata": {
    "collapsed": false,
    "pycharm": {
     "name": "#%%\n"
    }
   },
   "execution_count": 165,
   "outputs": [
    {
     "data": {
      "text/plain": "<Figure size 432x288 with 1 Axes>",
      "image/png": "[encoded data removed]"
     },
     "metadata": {
      "needs_background": "light"
     },
     "output_type": "display_data"
    }
   ]
  },
  {
   "cell_type": "code",
   "execution_count": 166,
   "outputs": [
    {
     "name": "stderr",
     "output_type": "stream",
     "text": [
      "54it [00:01, 51.60it/s]\n"
     ]
    },
    {
     "name": "stdout",
     "output_type": "stream",
     "text": [
      "Best_model | Elapsed time : 4.00\n",
      "Значение метрики для модели: 7.345289085183302e-05\n",
      "Максимально допустимое значение метрики: 5.500000000000001e-05\n",
      "Baseline MACs: INCORRECT\n",
      "Baseline params: INCORRECT\n",
      "Размер свёрточного слоя в байтах: 808\n",
      "Размер рекуррентного слоя в байтах: 17514\n",
      "Размер слоя attention в байтах: 968\n",
      "Размер классификационного слоя в байтах: 88\n",
      "cuda\n"
     ]
    }
   ],
   "source": [
    "best_model_cfg.device = \"cuda\"\n",
    "best_model.to(best_model_cfg.device)\n",
    "me = LogMelspecFp16(is_train=False, config=best_model_cfg)\n",
    "get_model_info(best_model, val_loader, me, best_model_cfg, name=model_name, is_quatized=True)"
   ],
   "metadata": {
    "collapsed": false,
    "pycharm": {
     "name": "#%%\n"
    }
   }
  },
  {
   "cell_type": "code",
   "execution_count": 168,
   "outputs": [
    {
     "ename": "ModuleNotFoundError",
     "evalue": "No module named 'whisper.decoding'; 'whisper' is not a package",
     "output_type": "error",
     "traceback": [
      "\u001B[0;31m---------------------------------------------------------------------------\u001B[0m",
      "\u001B[0;31mModuleNotFoundError\u001B[0m                       Traceback (most recent call last)",
      "\u001B[0;32m<ipython-input-168-a038beaad9b6>\u001B[0m in \u001B[0;36m<module>\u001B[0;34m\u001B[0m\n\u001B[1;32m      1\u001B[0m \u001B[0;31m# Добавим квантизации\u001B[0m\u001B[0;34m\u001B[0m\u001B[0;34m\u001B[0m\u001B[0;34m\u001B[0m\u001B[0m\n\u001B[1;32m      2\u001B[0m \u001B[0mdir\u001B[0m\u001B[0;34m(\u001B[0m\u001B[0mwhisper\u001B[0m\u001B[0;34m)\u001B[0m\u001B[0;34m\u001B[0m\u001B[0;34m\u001B[0m\u001B[0m\n\u001B[0;32m----> 3\u001B[0;31m \u001B[0;32mfrom\u001B[0m \u001B[0mwhisper\u001B[0m\u001B[0;34m.\u001B[0m\u001B[0mdecoding\u001B[0m \u001B[0;32mimport\u001B[0m \u001B[0mDecodingOptions\u001B[0m\u001B[0;34m\u001B[0m\u001B[0;34m\u001B[0m\u001B[0m\n\u001B[0m\u001B[1;32m      4\u001B[0m \u001B[0moptions\u001B[0m \u001B[0;34m=\u001B[0m \u001B[0mDecodingOptions\u001B[0m\u001B[0;34m(\u001B[0m\u001B[0mfp16\u001B[0m \u001B[0;34m=\u001B[0m \u001B[0;32mFalse\u001B[0m\u001B[0;34m)\u001B[0m\u001B[0;34m\u001B[0m\u001B[0;34m\u001B[0m\u001B[0m\n\u001B[1;32m      5\u001B[0m \u001B[0;34m\u001B[0m\u001B[0m\n",
      "\u001B[0;31mModuleNotFoundError\u001B[0m: No module named 'whisper.decoding'; 'whisper' is not a package"
     ]
    }
   ],
   "source": [
    "# Добавим квантизации\n",
    "from whisper.decoding import DecodingOptions\n",
    "options = DecodingOptions(fp16 = False)\n",
    "\n",
    "best_model_cfg.device = \"cpu\"\n",
    "best_model.to(best_model_cfg.device)\n",
    "q_best_model = torch.quantization.quantize_dynamic(\n",
    "    best_model,  # the original model\n",
    "    {nn.Conv2d, torch.nn.GRU, Attention},\n",
    "    dtype=torch.qint8)\n",
    "\n",
    "q_melspec_val_fp16 = LogMelspecFp16(is_train=False, config=best_model_cfg)\n",
    "get_model_info(q_best_model, val_loader, q_melspec_val_fp16, best_model_cfg, name=model_name, is_quatized=True)\n",
    "gru_size, attn_size = count_quatized_size(q_best_model)\n",
    "print(\"Размер рекуррентного слоя в байтах:\", gru_size)\n",
    "print(\"Размер слоя attention в байтах:\", attn_size)"
   ],
   "metadata": {
    "collapsed": false,
    "pycharm": {
     "name": "#%%\n"
    }
   }
  },
  {
   "cell_type": "code",
   "execution_count": 169,
   "outputs": [
    {
     "data": {
      "text/plain": "['AUTOFLUSH',\n 'BUFFERING',\n 'CACHE_HEADERS',\n 'CAN_FADVISE',\n 'CAN_FALLOCATE',\n 'CAN_LOCK',\n 'CorruptWhisperFile',\n 'FADVISE_RANDOM',\n 'InvalidAggregationMethod',\n 'InvalidConfiguration',\n 'InvalidTimeInterval',\n 'InvalidXFilesFactor',\n 'LOCK',\n 'POSIX_FADV_RANDOM',\n 'TimestampNotCovered',\n 'UnitMultipliers',\n 'WhisperException',\n '__archive_fetch',\n '__archive_update_many',\n '__builtins__',\n '__cached__',\n '__doc__',\n '__file__',\n '__headerCache',\n '__loader__',\n '__name__',\n '__package__',\n '__propagate',\n '__readHeader',\n '__setAggregation',\n '__spec__',\n '__writeHeaderMetadata',\n '_fallocate',\n '_py_fallocate',\n 'aggregate',\n 'aggregationMethodToType',\n 'aggregationMethods',\n 'aggregationTypeToMethod',\n 'archiveInfoFormat',\n 'archiveInfoSize',\n 'c_off64_t',\n 'c_off_t',\n 'create',\n 'ctypes',\n 'debug',\n 'diff',\n 'disableDebug',\n 'enableDebug',\n 'endBlock',\n 'fallocate',\n 'fcntl',\n 'fetch',\n 'file_diff',\n 'file_fetch',\n 'file_merge',\n 'file_update',\n 'file_update_many',\n 'floatFormat',\n 'floatSize',\n 'getUnitString',\n 'ifilter',\n 'info',\n 'itertools',\n 'izip',\n 'longFormat',\n 'longSize',\n 'merge',\n 'metadataFormat',\n 'metadataSize',\n 'operator',\n 'os',\n 'parseRetentionDef',\n 'platform',\n 'pointFormat',\n 'pointSize',\n 'posix_fadvise',\n 're',\n 'setAggregationMethod',\n 'setXFilesFactor',\n 'startBlock',\n 'struct',\n 'sys',\n 'time',\n 'update',\n 'update_many',\n 'validateArchiveList',\n 'valueFormat',\n 'valueSize',\n 'xrange']"
     },
     "execution_count": 169,
     "metadata": {},
     "output_type": "execute_result"
    }
   ],
   "source": [],
   "metadata": {
    "collapsed": false,
    "pycharm": {
     "name": "#%%\n"
    }
   }
  },
  {
   "cell_type": "code",
   "execution_count": null,
   "outputs": [],
   "source": [],
   "metadata": {
    "collapsed": false,
    "pycharm": {
     "name": "#%%\n"
    }
   }
  }
 ],
 "metadata": {
  "accelerator": "GPU",
  "colab": {
   "collapsed_sections": [],
   "name": "seminar.ipynb",
   "provenance": [],
   "toc_visible": true
  },
  "kernelspec": {
   "name": "pycharm-9efd95f0",
   "language": "python",
   "display_name": "PyCharm (hw2_kws)"
  },
  "language_info": {
   "codemirror_mode": {
    "name": "ipython",
    "version": 3
   },
   "file_extension": ".py",
   "mimetype": "text/x-python",
   "name": "python",
   "nbconvert_exporter": "python",
   "pygments_lexer": "ipython3",
   "version": "3.8.13"
  }
 },
 "nbformat": 4,
 "nbformat_minor": 1
}